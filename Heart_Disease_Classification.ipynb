{
  "nbformat": 4,
  "nbformat_minor": 0,
  "metadata": {
    "colab": {
      "name": "Heart Attack Classification.ipynb",
      "provenance": []
    },
    "kernelspec": {
      "name": "python3",
      "display_name": "Python 3"
    },
    "accelerator": "GPU"
  },
  "cells": [
    {
      "cell_type": "code",
      "metadata": {
        "id": "lgm-S2yqdgcK",
        "colab_type": "code",
        "colab": {}
      },
      "source": [
        "import numpy as np\n",
        "import pandas as pd\n",
        "from google.colab import files\n",
        "from sklearn.model_selection import train_test_split\n",
        "from sklearn.metrics import confusion_matrix,accuracy_score,plot_confusion_matrix,classification_report\n",
        "from sklearn.model_selection import KFold,GridSearchCV,cross_val_score\n",
        "from sklearn import preprocessing\n",
        "\n",
        "import seaborn as sns\n",
        "import matplotlib.pyplot as plt\n",
        "\n",
        "from sklearn import svm\n",
        "import xgboost as xgb\n",
        "from sklearn.tree import DecisionTreeClassifier\n",
        "from sklearn.ensemble import BaggingClassifier,RandomForestClassifier\n",
        "from sklearn.linear_model  import LogisticRegression\n",
        "\n",
        "\n",
        "\n",
        "\n",
        "# uploaded = files.upload()"
      ],
      "execution_count": null,
      "outputs": []
    },
    {
      "cell_type": "code",
      "metadata": {
        "id": "Tt4V_Wjje4ZY",
        "colab_type": "code",
        "colab": {}
      },
      "source": [
        "df=pd.read_csv('datasets_33180_43520_heart.csv')\n",
        "\n",
        "x=df[['age','trestbps','chol','thalach']]\n",
        "scaler=preprocessing.MinMaxScaler()\n",
        "x_normalized = scaler.fit_transform(x)\n",
        "x_normalized=pd.DataFrame(x_normalized,columns=[['age','trestbps','chol','thalach']])\n",
        "df[['age','trestbps','chol','thalach']]=x_normalized[['age','trestbps','chol','thalach']]\n",
        "\n",
        "label=df['target']\n",
        "df=df.drop('target', axis=1) \n",
        "table=pd.DataFrame(columns=['Method','Training Accuracy','Cross-Val Accuracy','Sensitivity','Specificity'])\n",
        "\n",
        "# print(df)"
      ],
      "execution_count": null,
      "outputs": []
    },
    {
      "cell_type": "code",
      "metadata": {
        "id": "PZb7lgImPfI_",
        "colab_type": "code",
        "colab": {}
      },
      "source": [
        "# Heatmap\n",
        "\n",
        "# plt.figure(figsize=(18,15))\n",
        "# sns.heatmap(df.corr(), robust=True, fmt=\"f\", cmap='RdBu_r', vmin=-1, vmax=1,annot=True)\n",
        "# cor=df.corr()\n",
        "# temp=abs(cor['target'])\n",
        "# print(temp[temp>0.3])\n",
        "\n"
      ],
      "execution_count": null,
      "outputs": []
    },
    {
      "cell_type": "code",
      "metadata": {
        "id": "S9ajTB6qmJKN",
        "colab_type": "code",
        "colab": {}
      },
      "source": [
        "# Grid search for Hyperparameter Tuning \n",
        "\n",
        "def gridsearch(clf,param_grid):\n",
        "  grid=GridSearchCV(clf,param_grid)\n",
        "  grid.fit(df,y)\n",
        "  print(grid.best_estimator_)\n",
        "  return grid.best_estimator_"
      ],
      "execution_count": null,
      "outputs": []
    },
    {
      "cell_type": "code",
      "metadata": {
        "id": "qgzGCU-SqN0I",
        "colab_type": "code",
        "colab": {}
      },
      "source": [
        "#  Performance Evaluation\n",
        "\n",
        "def perform(clf,a,df=df,label=label):\n",
        "\n",
        "  # Training \n",
        "  clf.fit(df,label)\n",
        "  y=clf.predict(df)\n",
        "\n",
        "  # Cross validation\n",
        "  cv_acc=cross_val_score(estimator=clf, X=df, y=label, cv=10, scoring='accuracy').mean()*100\n",
        "\n",
        "  # Test \n",
        "  train_acc=accuracy_score(label,y)*100\n",
        "\n",
        "  c=confusion_matrix(label,y)\n",
        "  sens=c[1][1]/(c[1][1]+c[1][0])\n",
        "  speci=c[0][0]/(c[0][0]+c[0][1])\n",
        "\n",
        "  return {'Method':a,'Training Accuracy':train_acc,'Cross-Val Accuracy':cv_acc,'Sensitivity':sens,'Specificity':speci}"
      ],
      "execution_count": null,
      "outputs": []
    },
    {
      "cell_type": "code",
      "metadata": {
        "id": "R2plNoWHtd1u",
        "colab_type": "code",
        "colab": {
          "base_uri": "https://localhost:8080/",
          "height": 118
        },
        "outputId": "0cffa928-f48a-4ad4-f406-898b2fe6ae5c"
      },
      "source": [
        "# SVM\n",
        "\n",
        "params = {\"C\":(0.1, 0.5, 1, 2, 5, 10, 20,100), \n",
        "          \"gamma\":(0.001, 0.01, 0.1, 0.25, 0.5, 0.75, 1), \n",
        "          \"kernel\":('linear', 'poly', 'rbf')}\n",
        "\n",
        "clf=gridsearch(svm.SVC(),params)\n",
        "table=table.append(perform(clf,'SVC'),ignore_index=True)"
      ],
      "execution_count": null,
      "outputs": [
        {
          "output_type": "stream",
          "text": [
            "SVC(C=1, break_ties=False, cache_size=200, class_weight=None, coef0=0.0,\n",
            "    decision_function_shape='ovr', degree=3, gamma=0.001, kernel='linear',\n",
            "    max_iter=-1, probability=False, random_state=None, shrinking=True,\n",
            "    tol=0.001, verbose=False)\n",
            "83.49462365591398\n",
            "85.47854785478548\n"
          ],
          "name": "stdout"
        }
      ]
    },
    {
      "cell_type": "code",
      "metadata": {
        "id": "zDlEkNTGtgnw",
        "colab_type": "code",
        "colab": {
          "base_uri": "https://localhost:8080/",
          "height": 224
        },
        "outputId": "b6d26465-df21-4080-c393-4b53711778c4"
      },
      "source": [
        "# Logistic Regression\n",
        "\n",
        "params = {\"C\": np.logspace(-4, 4, 20),\n",
        "          \"solver\": ['liblinear','lbfgs']}\n",
        "\n",
        "\n",
        "clf=gridsearch(LogisticRegression(),params)\n",
        "table=table.append(perform(clf,'Logistic Regression'),ignore_index=True)\n",
        "table"
      ],
      "execution_count": null,
      "outputs": [
        {
          "output_type": "stream",
          "text": [
            "LogisticRegression(C=0.23357214690901212, class_weight=None, dual=False,\n",
            "                   fit_intercept=True, intercept_scaling=1, l1_ratio=None,\n",
            "                   max_iter=100, multi_class='auto', n_jobs=None, penalty='l2',\n",
            "                   random_state=None, solver='lbfgs', tol=0.0001, verbose=0,\n",
            "                   warm_start=False)\n",
            "82.80645161290323\n",
            "85.47854785478548\n"
          ],
          "name": "stdout"
        },
        {
          "output_type": "execute_result",
          "data": {
            "text/html": [
              "<div>\n",
              "<style scoped>\n",
              "    .dataframe tbody tr th:only-of-type {\n",
              "        vertical-align: middle;\n",
              "    }\n",
              "\n",
              "    .dataframe tbody tr th {\n",
              "        vertical-align: top;\n",
              "    }\n",
              "\n",
              "    .dataframe thead th {\n",
              "        text-align: right;\n",
              "    }\n",
              "</style>\n",
              "<table border=\"1\" class=\"dataframe\">\n",
              "  <thead>\n",
              "    <tr style=\"text-align: right;\">\n",
              "      <th></th>\n",
              "      <th>Method</th>\n",
              "      <th>Training Accuracy</th>\n",
              "      <th>Cross-Val Accuracy</th>\n",
              "      <th>Sensitivity</th>\n",
              "      <th>Specificity</th>\n",
              "    </tr>\n",
              "  </thead>\n",
              "  <tbody>\n",
              "    <tr>\n",
              "      <th>0</th>\n",
              "      <td>SVC</td>\n",
              "      <td>85.478548</td>\n",
              "      <td>83.494624</td>\n",
              "      <td>0.939394</td>\n",
              "      <td>0.753623</td>\n",
              "    </tr>\n",
              "    <tr>\n",
              "      <th>1</th>\n",
              "      <td>Logistic Regression</td>\n",
              "      <td>85.478548</td>\n",
              "      <td>82.806452</td>\n",
              "      <td>0.921212</td>\n",
              "      <td>0.775362</td>\n",
              "    </tr>\n",
              "  </tbody>\n",
              "</table>\n",
              "</div>"
            ],
            "text/plain": [
              "                Method  Training Accuracy  ...  Sensitivity  Specificity\n",
              "0                  SVC          85.478548  ...     0.939394     0.753623\n",
              "1  Logistic Regression          85.478548  ...     0.921212     0.775362\n",
              "\n",
              "[2 rows x 5 columns]"
            ]
          },
          "metadata": {
            "tags": []
          },
          "execution_count": 111
        }
      ]
    },
    {
      "cell_type": "code",
      "metadata": {
        "id": "lwPwDSAEtmYd",
        "colab_type": "code",
        "colab": {
          "base_uri": "https://localhost:8080/",
          "height": 270
        },
        "outputId": "44d0515c-e5a3-427a-b238-ab74d840a69d"
      },
      "source": [
        "# Decision Tree\n",
        "\n",
        "params = {\"criterion\":(\"gini\", \"entropy\"), \n",
        "          \"splitter\":(\"best\", \"random\"), \n",
        "          \"max_depth\":range(1, 20), \n",
        "          \"min_samples_split\":[2, 3, 4], \n",
        "          \"min_samples_leaf\":range(1, 20)\n",
        "          }\n",
        "\n",
        "\n",
        "clf=gridsearch(DecisionTreeClassifier(),params)\n",
        "table=table.append(perform(clf,'Decision Tree'),ignore_index=True)\n",
        "table"
      ],
      "execution_count": null,
      "outputs": [
        {
          "output_type": "stream",
          "text": [
            "DecisionTreeClassifier(ccp_alpha=0.0, class_weight=None, criterion='gini',\n",
            "                       max_depth=16, max_features=None, max_leaf_nodes=None,\n",
            "                       min_impurity_decrease=0.0, min_impurity_split=None,\n",
            "                       min_samples_leaf=13, min_samples_split=4,\n",
            "                       min_weight_fraction_leaf=0.0, presort='deprecated',\n",
            "                       random_state=None, splitter='random')\n",
            "78.87096774193549\n",
            "82.83828382838284\n"
          ],
          "name": "stdout"
        },
        {
          "output_type": "execute_result",
          "data": {
            "text/html": [
              "<div>\n",
              "<style scoped>\n",
              "    .dataframe tbody tr th:only-of-type {\n",
              "        vertical-align: middle;\n",
              "    }\n",
              "\n",
              "    .dataframe tbody tr th {\n",
              "        vertical-align: top;\n",
              "    }\n",
              "\n",
              "    .dataframe thead th {\n",
              "        text-align: right;\n",
              "    }\n",
              "</style>\n",
              "<table border=\"1\" class=\"dataframe\">\n",
              "  <thead>\n",
              "    <tr style=\"text-align: right;\">\n",
              "      <th></th>\n",
              "      <th>Method</th>\n",
              "      <th>Training Accuracy</th>\n",
              "      <th>Cross-Val Accuracy</th>\n",
              "      <th>Sensitivity</th>\n",
              "      <th>Specificity</th>\n",
              "    </tr>\n",
              "  </thead>\n",
              "  <tbody>\n",
              "    <tr>\n",
              "      <th>0</th>\n",
              "      <td>SVC</td>\n",
              "      <td>85.478548</td>\n",
              "      <td>83.494624</td>\n",
              "      <td>0.939394</td>\n",
              "      <td>0.753623</td>\n",
              "    </tr>\n",
              "    <tr>\n",
              "      <th>1</th>\n",
              "      <td>Logistic Regression</td>\n",
              "      <td>85.478548</td>\n",
              "      <td>82.806452</td>\n",
              "      <td>0.921212</td>\n",
              "      <td>0.775362</td>\n",
              "    </tr>\n",
              "    <tr>\n",
              "      <th>2</th>\n",
              "      <td>Decision Tree</td>\n",
              "      <td>82.838284</td>\n",
              "      <td>78.870968</td>\n",
              "      <td>0.848485</td>\n",
              "      <td>0.804348</td>\n",
              "    </tr>\n",
              "  </tbody>\n",
              "</table>\n",
              "</div>"
            ],
            "text/plain": [
              "                Method  Training Accuracy  ...  Sensitivity  Specificity\n",
              "0                  SVC          85.478548  ...     0.939394     0.753623\n",
              "1  Logistic Regression          85.478548  ...     0.921212     0.775362\n",
              "2        Decision Tree          82.838284  ...     0.848485     0.804348\n",
              "\n",
              "[3 rows x 5 columns]"
            ]
          },
          "metadata": {
            "tags": []
          },
          "execution_count": 112
        }
      ]
    },
    {
      "cell_type": "code",
      "metadata": {
        "id": "Eu5Kzy1StpOR",
        "colab_type": "code",
        "colab": {}
      },
      "source": [
        "# Random Forest\n",
        "\n",
        "params = {'n_estimators': [50,500,800,1500,2000], \n",
        "          'max_features': ['auto', 'sqrt'],\n",
        "          'max_depth': [10,20,30,40,50], \n",
        "          'min_samples_split': [2, 5, 10],\n",
        "          'min_samples_leaf': [1, 2, 4,15], \n",
        "          'bootstrap': [True, False]\n",
        "          }\n",
        "\n",
        "          \n",
        "clf=gridsearch(RandomForestClassifier(),params)\n",
        "table=table.append(perform(clf,'Random Forest'),ignore_index=True)\n",
        "table"
      ],
      "execution_count": null,
      "outputs": []
    },
    {
      "cell_type": "code",
      "metadata": {
        "id": "gc2d1FtztrAQ",
        "colab_type": "code",
        "colab": {}
      },
      "source": [
        "# XGBoost\n",
        "\n",
        "params = {'n_estimators': [100, 500, 900, 1100, 1500],\n",
        "          'max_depth': [2, 3, 5, 10, 15],\n",
        "          'learning_rate' : [0.05, 0.1, 0.15, 0.20], \n",
        "          'min_child_weight' : [1, 2, 3, 4], \n",
        "          'booster' : ['gbtree', 'gblinear'],\n",
        "          'base_score' : [0.25, 0.5, 0.75, 0.99]\n",
        "          }\n",
        "\n",
        "clf=gridsearch(xgb(),params)\n",
        "table=table.append(perform(clf,'XGBoost'),ignore_index=True)\n",
        "table"
      ],
      "execution_count": null,
      "outputs": []
    },
    {
      "cell_type": "code",
      "metadata": {
        "id": "_GO5ffW054Cl",
        "colab_type": "code",
        "colab": {}
      },
      "source": [
        ""
      ],
      "execution_count": null,
      "outputs": []
    }
  ]
}
